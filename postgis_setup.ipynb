{
 "cells": [
  {
   "cell_type": "markdown",
   "metadata": {},
   "source": [
    "## Setting up the PostGIS database"
   ]
  },
  {
   "cell_type": "markdown",
   "metadata": {},
   "source": [
    "Login to postgres (either command line or PgAdmin)\n",
    "\n",
    "```\n",
    "psql -d postgres -U username\n",
    "```\n",
    "\n",
    "Then create a new database for the project with the PostGIS extension\n",
    "\n",
    "```sql\n",
    "CREATE DATABASE urban_form_toronto;\n",
    "\\c urban_form_toronto;\n",
    "CREATE EXTENSION postgis;\n",
    "```\n",
    "\n",
    "More info on PostGIS: https://postgis.net/"
   ]
  },
  {
   "cell_type": "markdown",
   "metadata": {},
   "source": [
    "## Load in the spatial data"
   ]
  },
  {
   "cell_type": "markdown",
   "metadata": {},
   "source": [
    "Using `shp2pgsql` to load in a hex grid (created in QGIS) and bouandaries for census Dissemination Areas (DA), census blocks (DB), and Traffic Analysis Zones (TAZ) which we will use for joining data\n",
    "\n",
    "```sh\n",
    "# an entire hex grid - 1.3 million or so records\n",
    "shp2pgsql -I -s 32617 -W \"latin1\" input_data/thex_grid/hex_grid_200m.shp hex_grid_200m | psql -U ja -d urban_form_toronto\n",
    "\n",
    "# a hex grid for testing - a subset of 260 hex near downtown Toronto\n",
    "shp2pgsql -I -s 32617 -W \"latin1\" input_data/thex_grid/hex_grid_200m_test_subset.shp hex_grid_200m_subset | psql -U ja -d urban_form_toronto\n",
    "\n",
    "# TAZ\n",
    "shp2pgsql -I -s 32617 -W \"latin1\" input_data/tspatial_boundaries/TAZ/TAZ_utm17n.shp zones_TAZ | psql -U ja -d urban_form_toronto\n",
    "\n",
    "# DA 2016\n",
    "shp2pgsql -I -s 32617 -W \"latin1\" input_data/tspatial_boundaries/CensusDisseminationAreas/2016/DA_GGH_utm17n.shp zones_DA16 | psql -U ja -d urban_form_toronto\n",
    "\n",
    "# DA 2011\n",
    "shp2pgsql -I -s 32617 -W \"latin1\" input_data/tspatial_boundaries/CensusDisseminationAreas/2011/DA_GGH_utm17n_2011.shp zones_DA11 | psql -U ja -d urban_form_toronto\n",
    "\n",
    "# DB\n",
    "shp2pgsql -I -s 32617 -W \"latin1\" input_data/tspatial_boundaries/CensusBlocks/2016/DB_GGH_utm17n.shp zones_DB16 | psql -U ja -d urban_form_toronto\n",
    "```"
   ]
  },
  {
   "cell_type": "markdown",
   "metadata": {},
   "source": [
    "## Load in the tabular data"
   ]
  },
  {
   "cell_type": "markdown",
   "metadata": {},
   "source": [
    "Block-level (DB) population data for 2016:\n",
    "\n",
    "```sql\n",
    "-- create the table\n",
    "DROP TABLE IF EXISTS table_DB_pop_2016;\n",
    "CREATE TABLE table_DB_pop_2016\n",
    "(dbuid character varying, dauid character varying, pop2016 character varying);\n",
    "\n",
    "-- add in the csv\n",
    "COPY table_DB_pop_2016 FROM 'input_data/tabular_data/DB_block_2016_population.csv' WITH (FORMAT csv);\n",
    "\n",
    "-- updating the population column to an integer, all blanks to 0\n",
    "ALTER TABLE table_DB_pop_2016 ADD COLUMN pop2016int integer;\n",
    "UPDATE table_DB_pop_2016 SET pop2016int = CAST(coalesce(pop2016, '0') AS integer);\n",
    "ALTER TABLE table_DB_pop_2016 DROP COLUMN pop2016;\n",
    "```\n",
    "\n",
    "Business count data for 2016 (linked to 2011 geographies)\n",
    "\n",
    "https://dataverse.scholarsportal.info/dataset.xhtml?persistentId=doi:10.5683/SP/FLLHOV&version=2.0\n",
    "\n",
    "\n",
    "\n",
    "```sql\n",
    "-- create the table\n",
    "DROP TABLE IF EXISTS table_DA_business_2016_in_11da;\n",
    "CREATE TABLE table_DA_business_2016_in_11da\n",
    "(dauid character varying, business2016 integer);\n",
    "\n",
    "-- add in the csv\n",
    "COPY table_DA_business_2016_in_11da FROM 'input_data/tabular_data/DA_2016_business_store_subset.csv' DELIMITER ',' CSV HEADER;\n",
    "```\n",
    "\n",
    "\n",
    "Employment data for 2016 (there are several DAs with suppressed data, any with an employment < 40)\n",
    "\n",
    "http://odesi2.scholarsportal.info/documentation/CENSUS/2016/cen16labour.html\n",
    "\n",
    "```sql\n",
    "-- create the table\n",
    "DROP TABLE IF EXISTS table_DA_emp_2016;\n",
    "CREATE TABLE table_DA_emp_2016\n",
    "(dauid character varying, emp2016 integer);\n",
    "\n",
    "-- add in the csv\n",
    "COPY table_DA_emp_2016 FROM 'input_data/tabular_data/DA_2016_business_store_subset.csv' DELIMITER ',' CSV HEADER;\n",
    "\n",
    "```\n",
    "\n",
    "\n"
   ]
  },
  {
   "cell_type": "markdown",
   "metadata": {},
   "source": [
    "## Backing up the database"
   ]
  },
  {
   "cell_type": "markdown",
   "metadata": {},
   "source": [
    "Backup up the database and pipe it to a compressed file. Run this every so often :)\n",
    "\n",
    "```sh\n",
    "pg_dump urban_form_toronto | gzip > db_urban_form_toronto_backup.gz\n",
    "```\n",
    "\n",
    "And restore with the following if need be\n",
    "\n",
    "```sh\n",
    "gunzip -c db_urban_form_toronto_backup.gz | psql urban_form_toronto\n",
    "```"
   ]
  },
  {
   "cell_type": "markdown",
   "metadata": {},
   "source": []
  }
 ],
 "metadata": {
  "kernelspec": {
   "display_name": "Python 3",
   "language": "python",
   "name": "python3"
  },
  "language_info": {
   "codemirror_mode": {
    "name": "ipython",
    "version": 3
   },
   "file_extension": ".py",
   "mimetype": "text/x-python",
   "name": "python",
   "nbconvert_exporter": "python",
   "pygments_lexer": "ipython3",
   "version": "3.6.6"
  }
 },
 "nbformat": 4,
 "nbformat_minor": 2
}
