{
 "cells": [
  {
   "cell_type": "markdown",
   "metadata": {},
   "source": [
    "# Transit Availability"
   ]
  },
  {
   "cell_type": "markdown",
   "metadata": {},
   "source": [
    "Generating a measure of transit level-of-service linked to a Hex Grid in the Toronto Region\n",
    "\n",
    "This measure is the number of unique transit trips which stop in each cell\n",
    "\n",
    "GTFS data were sourced from https://transitfeeds.com/ (data range is for Nov 28, 2018 to Dec 22, 2018)"
   ]
  },
  {
   "cell_type": "code",
   "execution_count": 135,
   "metadata": {},
   "outputs": [
    {
     "name": "stdout",
     "output_type": "stream",
     "text": [
      "\u001b[01;34m../input_data/transit_gtfs/\u001b[00m\n",
      "└── \u001b[01;34m2018_december\u001b[00m\n",
      "    ├── \u001b[01;31mgtfs_barrie.zip\u001b[00m\n",
      "    ├── \u001b[01;31mgtfs_brampton.zip\u001b[00m\n",
      "    ├── \u001b[01;31mgtfs_burlington.zip\u001b[00m\n",
      "    ├── \u001b[01;31mgtfs_durham.zip\u001b[00m\n",
      "    ├── \u001b[01;31mgtfs_go.zip\u001b[00m\n",
      "    ├── \u001b[01;31mgtfs_guelph.zip\u001b[00m\n",
      "    ├── \u001b[01;31mgtfs_hamilton.zip\u001b[00m\n",
      "    ├── \u001b[01;31mgtfs_kw.zip\u001b[00m\n",
      "    ├── \u001b[01;31mgtfs_milton.zip\u001b[00m\n",
      "    ├── \u001b[01;31mgtfs_mississauga.zip\u001b[00m\n",
      "    ├── \u001b[01;31mgtfs_niagara.zip\u001b[00m\n",
      "    ├── \u001b[01;31mgtfs_oakville.zip\u001b[00m\n",
      "    ├── \u001b[01;31mgtfs_toronto.zip\u001b[00m\n",
      "    └── \u001b[01;31mgtfs_york.zip\u001b[00m\n",
      "\n",
      "1 directory, 14 files\n"
     ]
    }
   ],
   "source": [
    "! tree ../input_data/transit_gtfs/"
   ]
  },
  {
   "cell_type": "markdown",
   "metadata": {},
   "source": [
    "We are using python to count the number of unique trips per stop"
   ]
  },
  {
   "cell_type": "code",
   "execution_count": 163,
   "metadata": {},
   "outputs": [
    {
     "data": {
      "text/html": [
       "<div>\n",
       "<style scoped>\n",
       "    .dataframe tbody tr th:only-of-type {\n",
       "        vertical-align: middle;\n",
       "    }\n",
       "\n",
       "    .dataframe tbody tr th {\n",
       "        vertical-align: top;\n",
       "    }\n",
       "\n",
       "    .dataframe thead th {\n",
       "        text-align: right;\n",
       "    }\n",
       "</style>\n",
       "<table border=\"1\" class=\"dataframe\">\n",
       "  <thead>\n",
       "    <tr style=\"text-align: right;\">\n",
       "      <th></th>\n",
       "      <th>stop_lat</th>\n",
       "      <th>stop_lon</th>\n",
       "      <th>N_trips_sat</th>\n",
       "      <th>N_trips_sun</th>\n",
       "      <th>N_trips_wed</th>\n",
       "      <th>N_week</th>\n",
       "      <th>N_per_hour</th>\n",
       "    </tr>\n",
       "  </thead>\n",
       "  <tbody>\n",
       "    <tr>\n",
       "      <th>xxx</th>\n",
       "      <td>0.0</td>\n",
       "      <td>0.0</td>\n",
       "      <td>0</td>\n",
       "      <td>0</td>\n",
       "      <td>0</td>\n",
       "      <td>0</td>\n",
       "      <td>0.0</td>\n",
       "    </tr>\n",
       "  </tbody>\n",
       "</table>\n",
       "</div>"
      ],
      "text/plain": [
       "     stop_lat  stop_lon  N_trips_sat  N_trips_sun  N_trips_wed  N_week  \\\n",
       "xxx       0.0       0.0            0            0            0       0   \n",
       "\n",
       "     N_per_hour  \n",
       "xxx         0.0  "
      ]
     },
     "execution_count": 163,
     "metadata": {},
     "output_type": "execute_result"
    }
   ],
   "source": [
    "import pandas as pd\n",
    "import geopandas as gpd\n",
    "import zipfile\n",
    "from shapely.geometry import Point\n",
    "\n",
    "# and empty dataframe to fill with stop data\n",
    "Data = {'stop_id': ['xxx'],\n",
    "        'stop_lat': [0.0],\n",
    "        'stop_lon': [0.0],\n",
    "        'N_trips_sat': [0],\n",
    "        'N_trips_sun': [0],\n",
    "        'N_trips_wed': [0],\n",
    "        'N_week': [0],\n",
    "        'N_per_hour': [0.0]\n",
    "        }\n",
    "dfs = pd.DataFrame(Data, columns = ['stop_lat','stop_lon','N_trips_sat','N_trips_sun','N_trips_wed','N_week','N_per_hour'], index = Data['stop_id'])\n",
    "dfs"
   ]
  },
  {
   "cell_type": "code",
   "execution_count": 164,
   "metadata": {},
   "outputs": [],
   "source": [
    "# the list of gtfs.zip files in which we are going to use\n",
    "gtfs_list = ['../input_data/transit_gtfs/2018_december/gtfs_barrie.zip',\n",
    "               '../input_data/transit_gtfs/2018_december/gtfs_brampton.zip',\n",
    "               '../input_data/transit_gtfs/2018_december/gtfs_burlington.zip',\n",
    "               '../input_data/transit_gtfs/2018_december/gtfs_durham.zip',\n",
    "               '../input_data/transit_gtfs/2018_december/gtfs_go.zip',\n",
    "               '../input_data/transit_gtfs/2018_december/gtfs_guelph.zip',\n",
    "               '../input_data/transit_gtfs/2018_december/gtfs_hamilton.zip',\n",
    "               '../input_data/transit_gtfs/2018_december/gtfs_kw.zip',\n",
    "               '../input_data/transit_gtfs/2018_december/gtfs_milton.zip',\n",
    "               '../input_data/transit_gtfs/2018_december/gtfs_mississauga.zip',\n",
    "               '../input_data/transit_gtfs/2018_december/gtfs_niagara.zip',\n",
    "               '../input_data/transit_gtfs/2018_december/gtfs_oakville.zip',\n",
    "               '../input_data/transit_gtfs/2018_december/gtfs_toronto.zip',\n",
    "               '../input_data/transit_gtfs/2018_december/gtfs_york.zip'\n",
    "              ]"
   ]
  },
  {
   "cell_type": "code",
   "execution_count": 165,
   "metadata": {},
   "outputs": [],
   "source": [
    "# looping over each GTFS file, counting the number of trips per stop \n",
    "\n",
    "for gtfs in gtfs_list:\n",
    "\n",
    "    z = zipfile.ZipFile(gtfs)\n",
    "\n",
    "    df_stops = pd.read_csv(z.open('stops.txt'), dtype = \"str\")\n",
    "    df_stop_times = pd.read_csv(z.open('stop_times.txt'), dtype = \"str\")\n",
    "    df_trips = pd.read_csv(z.open('trips.txt'), dtype = \"str\")\n",
    "    \n",
    "    # outputting list of service IDs to query trips (only those for the week of interest Dec 2-8)\n",
    "    # if there is a calendar file\n",
    "    try:\n",
    "        df_cal = pd.read_csv(z.open('calendar.txt'),dtype={'service_id':'str'})\n",
    "        df_cal[\"anydays\"] = df_cal[\"monday\"] + df_cal[\"tuesday\"] + df_cal[\"wednesday\"] + df_cal[\"thursday\"] + df_cal[\"friday\"] + df_cal[\"saturday\"] + df_cal[\"sunday\"]\n",
    "        service_ids_wed = df_cal.query('start_date <= 20181202 & end_date >= 20181208 & wednesday > 0').service_id\n",
    "        service_ids_sat = df_cal.query('start_date <= 20181202 & end_date >= 20181208 & saturday > 0').service_id\n",
    "        service_ids_sun = df_cal.query('start_date <= 20181202 & end_date >= 20181208 & sunday > 0').service_id\n",
    "    # if not, and we only have the calendar_dates file\n",
    "    except:\n",
    "        df_cal = pd.read_csv(z.open('calendar_dates.txt'),dtype={'service_id':'str'})\n",
    "        service_ids_wed = df_cal.query('date == 20181205').service_id\n",
    "        service_ids_sat = df_cal.query('date == 20181208').service_id\n",
    "        service_ids_sun = df_cal.query('date == 20181209').service_id\n",
    "    \n",
    "    service_ids = service_ids_sat\n",
    "\n",
    "    # grabbing those trips that are linked with the service ID\n",
    "    trip_ids = df_trips[df_trips['service_id'].isin(service_ids)].trip_id\n",
    "\n",
    "    # subsetting the stop_times by these trips\n",
    "    df_stop_times_subset = df_stop_times[df_stop_times[\"trip_id\"].isin(trip_ids)]\n",
    "\n",
    "    # counting the number of trips per stop\n",
    "    dfsat = pd.DataFrame(df_stop_times_subset['stop_id'].value_counts())\n",
    "    dfsat.columns = ['N_trips_sat']\n",
    "    \n",
    "    service_ids = service_ids_sun\n",
    "\n",
    "    # grabbing those trips that are linked with the service ID\n",
    "    trip_ids = df_trips[df_trips['service_id'].isin(service_ids)].trip_id\n",
    "\n",
    "    # subsetting the stop_times by these trips\n",
    "    df_stop_times_subset = df_stop_times[df_stop_times[\"trip_id\"].isin(trip_ids)]\n",
    "    dfsun = pd.DataFrame(df_stop_times_subset['stop_id'].value_counts())\n",
    "    dfsun.columns = ['N_trips_sun']\n",
    "\n",
    "    dfo = dfsat.join(dfsun,how='outer')\n",
    "    \n",
    "    service_ids = service_ids_wed\n",
    "\n",
    "    # grabbing those trips that are linked with the service ID\n",
    "    trip_ids = df_trips[df_trips['service_id'].isin(service_ids)].trip_id\n",
    "\n",
    "    # subsetting the stop_times by these trips\n",
    "    df_stop_times_subset = df_stop_times[df_stop_times[\"trip_id\"].isin(trip_ids)]\n",
    "    dfwed = pd.DataFrame(df_stop_times_subset['stop_id'].value_counts())\n",
    "    dfwed.columns = ['N_trips_wed']\n",
    "    dfwed['N_trips_wed'] = dfwed['N_trips_wed'] * 5 # by number of weekdays\n",
    "    dfo = dfo.join(dfwed,how='outer')\n",
    "\n",
    "    dfo = df_stops.set_index('stop_id').join(dfo)\n",
    "    dfo = dfo[['stop_lat','stop_lon','N_trips_sat','N_trips_sun','N_trips_wed']]\n",
    "    \n",
    "    dfo = dfo.fillna(0)\n",
    "    dfo[\"N_week\"] = dfo[\"N_trips_sat\"] + dfo[\"N_trips_sun\"] + dfo[\"N_trips_wed\"]\n",
    "    dfo[\"N_per_hour\"] = dfo[\"N_week\"] / (7 * 24)\n",
    "\n",
    "    dfs = dfs.append(dfo)"
   ]
  },
  {
   "cell_type": "code",
   "execution_count": 167,
   "metadata": {},
   "outputs": [],
   "source": [
    "dfs.stop_lon = pd.to_numeric(dfs.stop_lon)\n",
    "dfs.stop_lat = pd.to_numeric(dfs.stop_lat)\n",
    "\n",
    "geometry = [Point(xy) for xy in zip(dfs.stop_lon, dfs.stop_lat)]\n",
    "crs = {'init': 'epsg:4326'}\n",
    "gdfs = gpd.GeoDataFrame(dfs, crs=crs, geometry=geometry)\n",
    "gdfs = gdfs.to_crs(epsg=\"32617\")"
   ]
  },
  {
   "cell_type": "code",
   "execution_count": null,
   "metadata": {},
   "outputs": [],
   "source": [
    "gdfs.to_file(driver = 'ESRI Shapefile', filename= \"../input_data/transit_gtfs/2018_december/stops_N_trips.shp\")"
   ]
  },
  {
   "cell_type": "markdown",
   "metadata": {},
   "source": [
    "Input data into PosGIS\n",
    "\n",
    "```sh\n",
    "shp2pgsql -I -s 32617 -W \"latin1\" input_data/transit_gtfs/2018_december/stops_N_trips.shp stops_N_trips | psql -U ja -d urban_form_toronto\n",
    "```\n",
    "\n",
    "Join the data to the hex grid\n",
    "\n",
    "```sql\n",
    "-- first create a spatial index on the points\n",
    "\n",
    "DROP INDEX IF EXISTS stops_N_trips_gix;\n",
    "CREATE INDEX stops_N_trips_gix ON stops_N_trips USING GIST (geom); \n",
    "\n",
    "-- spatial join hex to stops, summing the trip counts by hex id\n",
    "\n",
    "DROP TABLE IF EXISTS out_data_hex_transit2018;\n",
    "CREATE TABLE out_data_hex_transit2018 AS (\n",
    "SELECT\n",
    "sum(coalesce(stops_N_trips.n_per_hour,0)) AS n_per_hour,\n",
    "hex_grid_200m.id AS hexid\n",
    "FROM\n",
    "stops_N_trips RIGHT OUTER JOIN hex_grid_200m ON ST_Intersects(stops_N_trips.geom,hex_grid_200m.geom)\n",
    "GROUP BY hexid\n",
    ");\n",
    "    \n",
    "-- output\n",
    "    \n",
    "\\COPY out_data_hex_transit2018 TO 'out_data_hex_transit2018.csv' WITH (FORMAT CSV, HEADER);\n",
    "\n",
    "\n",
    "```"
   ]
  }
 ],
 "metadata": {
  "kernelspec": {
   "display_name": "Python 3",
   "language": "python",
   "name": "python3"
  },
  "language_info": {
   "codemirror_mode": {
    "name": "ipython",
    "version": 3
   },
   "file_extension": ".py",
   "mimetype": "text/x-python",
   "name": "python",
   "nbconvert_exporter": "python",
   "pygments_lexer": "ipython3",
   "version": "3.6.6"
  }
 },
 "nbformat": 4,
 "nbformat_minor": 2
}
