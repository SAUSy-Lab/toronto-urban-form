{
 "cells": [
  {
   "cell_type": "markdown",
   "metadata": {},
   "source": [
    "# Intersection Density"
   ]
  },
  {
   "cell_type": "markdown",
   "metadata": {},
   "source": [
    "Generating measures of intersection density to a hex grid using PostGIS and some spatial python libraries"
   ]
  },
  {
   "cell_type": "code",
   "execution_count": 1,
   "metadata": {},
   "outputs": [],
   "source": [
    "%matplotlib inline\n",
    "import geopandas as gpd\n",
    "import pandas as pd\n",
    "import osmnx as ox\n",
    "import seaborn as sns\n",
    "import matplotlib.pyplot as plt"
   ]
  },
  {
   "cell_type": "markdown",
   "metadata": {},
   "source": [
    "The postgis database has a table named `hex_grid_200m` and "
   ]
  },
  {
   "cell_type": "code",
   "execution_count": 2,
   "metadata": {},
   "outputs": [],
   "source": [
    "dfhex = gpd.read_file(\"../input_data/hex_grid/hex_grid_200m_test_subset.shp\").to_crs(epsg=32617)\n",
    "dfhex = dfhex.set_index('id')"
   ]
  },
  {
   "cell_type": "code",
   "execution_count": 3,
   "metadata": {},
   "outputs": [
    {
     "ename": "KeyboardInterrupt",
     "evalue": "",
     "output_type": "error",
     "traceback": [
      "\u001b[0;31m---------------------------------------------------------------------------\u001b[0m",
      "\u001b[0;31mKeyboardInterrupt\u001b[0m                         Traceback (most recent call last)",
      "\u001b[0;32m<ipython-input-3-3a89c4352227>\u001b[0m in \u001b[0;36m<module>\u001b[0;34m\u001b[0m\n\u001b[1;32m      1\u001b[0m \u001b[0;31m# get boundary for the OSM\u001b[0m\u001b[0;34m\u001b[0m\u001b[0;34m\u001b[0m\u001b[0m\n\u001b[0;32m----> 2\u001b[0;31m \u001b[0mboundary\u001b[0m \u001b[0;34m=\u001b[0m \u001b[0mdfhex\u001b[0m\u001b[0;34m.\u001b[0m\u001b[0mgeometry\u001b[0m\u001b[0;34m.\u001b[0m\u001b[0mto_crs\u001b[0m\u001b[0;34m(\u001b[0m\u001b[0mepsg\u001b[0m \u001b[0;34m=\u001b[0m \u001b[0;36m4326\u001b[0m\u001b[0;34m)\u001b[0m\u001b[0;34m.\u001b[0m\u001b[0munary_union\u001b[0m\u001b[0;34m\u001b[0m\u001b[0m\n\u001b[0m",
      "\u001b[0;32m~/miniconda3/envs/gds/lib/python3.6/site-packages/geopandas/base.py\u001b[0m in \u001b[0;36munary_union\u001b[0;34m(self)\u001b[0m\n\u001b[1;32m    193\u001b[0m     \u001b[0;32mdef\u001b[0m \u001b[0munary_union\u001b[0m\u001b[0;34m(\u001b[0m\u001b[0mself\u001b[0m\u001b[0;34m)\u001b[0m\u001b[0;34m:\u001b[0m\u001b[0;34m\u001b[0m\u001b[0m\n\u001b[1;32m    194\u001b[0m         \u001b[0;34m\"\"\"Return the union of all geometries\"\"\"\u001b[0m\u001b[0;34m\u001b[0m\u001b[0m\n\u001b[0;32m--> 195\u001b[0;31m         \u001b[0;32mreturn\u001b[0m \u001b[0munary_union\u001b[0m\u001b[0;34m(\u001b[0m\u001b[0mself\u001b[0m\u001b[0;34m.\u001b[0m\u001b[0mgeometry\u001b[0m\u001b[0;34m.\u001b[0m\u001b[0mvalues\u001b[0m\u001b[0;34m)\u001b[0m\u001b[0;34m\u001b[0m\u001b[0m\n\u001b[0m\u001b[1;32m    196\u001b[0m \u001b[0;34m\u001b[0m\u001b[0m\n\u001b[1;32m    197\u001b[0m     \u001b[0;31m#\u001b[0m\u001b[0;34m\u001b[0m\u001b[0;34m\u001b[0m\u001b[0m\n",
      "\u001b[0;32m~/miniconda3/envs/gds/lib/python3.6/site-packages/shapely/ops.py\u001b[0m in \u001b[0;36munary_union\u001b[0;34m(self, geoms)\u001b[0m\n\u001b[1;32m    147\u001b[0m             \u001b[0msubs\u001b[0m\u001b[0;34m[\u001b[0m\u001b[0mi\u001b[0m\u001b[0;34m]\u001b[0m \u001b[0;34m=\u001b[0m \u001b[0mg\u001b[0m\u001b[0;34m.\u001b[0m\u001b[0m_geom\u001b[0m\u001b[0;34m\u001b[0m\u001b[0m\n\u001b[1;32m    148\u001b[0m         \u001b[0mcollection\u001b[0m \u001b[0;34m=\u001b[0m \u001b[0mlgeos\u001b[0m\u001b[0;34m.\u001b[0m\u001b[0mGEOSGeom_createCollection\u001b[0m\u001b[0;34m(\u001b[0m\u001b[0;36m6\u001b[0m\u001b[0;34m,\u001b[0m \u001b[0msubs\u001b[0m\u001b[0;34m,\u001b[0m \u001b[0mL\u001b[0m\u001b[0;34m)\u001b[0m\u001b[0;34m\u001b[0m\u001b[0m\n\u001b[0;32m--> 149\u001b[0;31m         \u001b[0;32mreturn\u001b[0m \u001b[0mgeom_factory\u001b[0m\u001b[0;34m(\u001b[0m\u001b[0mlgeos\u001b[0m\u001b[0;34m.\u001b[0m\u001b[0mmethods\u001b[0m\u001b[0;34m[\u001b[0m\u001b[0;34m'unary_union'\u001b[0m\u001b[0;34m]\u001b[0m\u001b[0;34m(\u001b[0m\u001b[0mcollection\u001b[0m\u001b[0;34m)\u001b[0m\u001b[0;34m)\u001b[0m\u001b[0;34m\u001b[0m\u001b[0m\n\u001b[0m\u001b[1;32m    150\u001b[0m \u001b[0;34m\u001b[0m\u001b[0m\n\u001b[1;32m    151\u001b[0m \u001b[0moperator\u001b[0m \u001b[0;34m=\u001b[0m \u001b[0mCollectionOperator\u001b[0m\u001b[0;34m(\u001b[0m\u001b[0;34m)\u001b[0m\u001b[0;34m\u001b[0m\u001b[0m\n",
      "\u001b[0;31mKeyboardInterrupt\u001b[0m: "
     ]
    }
   ],
   "source": [
    "# get boundary for the OSM\n",
    "boundary = dfhex.geometry.to_crs(epsg = 4326).unary_union"
   ]
  },
  {
   "cell_type": "markdown",
   "metadata": {},
   "source": [
    "Selecting and downloading the OSM network graph using custom filters for selecting ways"
   ]
  },
  {
   "cell_type": "code",
   "execution_count": null,
   "metadata": {},
   "outputs": [],
   "source": [
    "filter_drive = ('[\"area\"!~\"yes\"]'\n",
    "            '[\"highway\"!~\"motor|trunk|foot|proposed|construction|abandoned|platform|raceway|foot|cycleway\"]'\n",
    "            '[\"service\"!~\"driveway|emergency_access|parking_aisle|drive-through\"]'\n",
    "            '[\"access\"!~\"private\"]')\n",
    "filter_walk = ('[\"area\"!~\"yes\"]'\n",
    "            '[\"highway\"!~\"motor|trunk|proposed|construction|abandoned|platform|raceway\"]'\n",
    "            '[\"foot\"!~\"no\"]'\n",
    "            '[\"footway\"!~\"sidewalk\"]'\n",
    "            '[\"service\"!~\"private|parking_aisle\"]'\n",
    "            '[\"access\"!~\"private\"]')\n",
    "G = ox.graph_from_polygon(boundary, custom_filter=filter_drive)\n",
    "G = ox.project_graph(G)\n",
    "# fig, ax = ox.plot_graph(G, node_size=30, node_color='#66cc66') # for plotting :)"
   ]
  },
  {
   "cell_type": "markdown",
   "metadata": {},
   "source": [
    "Grabbing the street nodes from the graph into a geodataframe"
   ]
  },
  {
   "cell_type": "code",
   "execution_count": null,
   "metadata": {},
   "outputs": [],
   "source": [
    "nodes_all = ox.graph_to_gdfs(G, edges=False)\n",
    "nodes_all = nodes_all.to_crs(epsg=32617)"
   ]
  },
  {
   "cell_type": "markdown",
   "metadata": {},
   "source": [
    "pulling out the number of streets that connect to each edge and joining to the nodes dataset"
   ]
  },
  {
   "cell_type": "code",
   "execution_count": null,
   "metadata": {},
   "outputs": [],
   "source": [
    "streets_per_node = ox.count_streets_per_node(G)\n",
    "streets_per_node = pd.DataFrame.from_dict(data=streets_per_node,orient='index')\n",
    "streets_per_node.columns = [\"streets_n\"]\n",
    "nodes_all = nodes_all.join(streets_per_node)"
   ]
  },
  {
   "cell_type": "markdown",
   "metadata": {},
   "source": [
    "Spatial join of the hex grid to the nodes"
   ]
  },
  {
   "cell_type": "code",
   "execution_count": null,
   "metadata": {},
   "outputs": [],
   "source": [
    "nodes_per_hex = gpd.sjoin(nodes_all, dfhex, how=\"inner\", op='intersects')\n",
    "del nodes_per_hex['highway'],nodes_per_hex['x'],nodes_per_hex['y'],nodes_per_hex['lat'],nodes_per_hex['lon'],nodes_per_hex['geometry']"
   ]
  },
  {
   "cell_type": "markdown",
   "metadata": {},
   "source": [
    "Subsetting to only get those with 3 or more and 4 or more street connections"
   ]
  },
  {
   "cell_type": "code",
   "execution_count": null,
   "metadata": {},
   "outputs": [],
   "source": [
    "nodes_per_hex_4up = nodes_per_hex.query('streets_n >= 4')\n",
    "nodes_per_hex_3up = nodes_per_hex.query('streets_n >= 3')"
   ]
  },
  {
   "cell_type": "markdown",
   "metadata": {},
   "source": [
    "Group by hex summing the number of nodes"
   ]
  },
  {
   "cell_type": "code",
   "execution_count": null,
   "metadata": {},
   "outputs": [],
   "source": [
    "nodes_per_hex_4up = nodes_per_hex_4up.groupby('index_right')['streets_n'].count()\n",
    "nodes_per_hex_3up = nodes_per_hex_3up.groupby('index_right')['streets_n'].count()"
   ]
  },
  {
   "cell_type": "markdown",
   "metadata": {},
   "source": [
    "Join outter to the hex bounds"
   ]
  },
  {
   "cell_type": "code",
   "execution_count": null,
   "metadata": {},
   "outputs": [],
   "source": [
    "nodes_per_hex_3up = (pd.concat((dfhex,nodes_per_hex_3up), axis=1, join='outer'))\n",
    "del nodes_per_hex_3up[\"geometry\"]\n",
    "nodes_per_hex_3up.fillna(0, inplace=True)\n",
    "nodes_per_hex_3up.columns = [\"nodes_road_3up\"]\n",
    "\n",
    "nodes_per_hex_4up = (pd.concat((dfhex,nodes_per_hex_4up), axis=1, join='outer'))\n",
    "del nodes_per_hex_4up[\"geometry\"]\n",
    "nodes_per_hex_4up.fillna(0, inplace=True)\n",
    "nodes_per_hex_4up.columns = [\"nodes_road_4up\"]"
   ]
  },
  {
   "cell_type": "markdown",
   "metadata": {},
   "source": [
    "Join the data to one dataframe and output to a csv"
   ]
  },
  {
   "cell_type": "code",
   "execution_count": null,
   "metadata": {},
   "outputs": [],
   "source": [
    "hex_int_nodes = nodes_per_hex_3up.join(nodes_per_hex_4up)\n",
    "hex_int_nodes.index.names = ['hexid']\n",
    "hex_int_nodes.to_csv(\"gen_code/hexdata_intersections_road.csv\", encoding='utf-8', index=True)"
   ]
  }
 ],
 "metadata": {
  "kernelspec": {
   "display_name": "Python 3",
   "language": "python",
   "name": "python3"
  },
  "language_info": {
   "codemirror_mode": {
    "name": "ipython",
    "version": 3
   },
   "file_extension": ".py",
   "mimetype": "text/x-python",
   "name": "python",
   "nbconvert_exporter": "python",
   "pygments_lexer": "ipython3",
   "version": "3.6.6"
  }
 },
 "nbformat": 4,
 "nbformat_minor": 2
}
