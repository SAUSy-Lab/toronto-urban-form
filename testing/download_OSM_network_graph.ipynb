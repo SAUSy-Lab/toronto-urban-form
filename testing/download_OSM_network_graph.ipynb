{
 "cells": [
  {
   "cell_type": "markdown",
   "metadata": {},
   "source": [
    "## Downloading OSM Network Data"
   ]
  },
  {
   "cell_type": "markdown",
   "metadata": {},
   "source": [
    "Using osmnx and geopandas"
   ]
  },
  {
   "cell_type": "markdown",
   "metadata": {},
   "source": [
    "1 - get a boundary to load the OSM\n",
    "2 - download the graph\n",
    "3 - extract nodes and get counts per node\n",
    "4 - extract edges\n",
    "5 - import into postgres"
   ]
  },
  {
   "cell_type": "code",
   "execution_count": 1,
   "metadata": {},
   "outputs": [],
   "source": [
    "import geopandas as gpd\n",
    "import pandas as pd\n",
    "import osmnx as ox\n",
    "\n",
    "#north, south, east, west = 44.987, 42.528, -77.635, -81.144\n",
    "north, south, east, west = 43.66695, 43.65178, -79.34404, -79.40960\n",
    "\n",
    "# types of OSM filters\n",
    "filter_drive = ('[\"area\"!~\"yes\"]'\n",
    "            '[\"highway\"!~\"motor|trunk|foot|proposed|construction|abandoned|platform|raceway|foot|cycleway\"]'\n",
    "            '[\"service\"!~\"driveway|emergency_access|parking_aisle|drive-through\"]'\n",
    "            '[\"access\"!~\"private\"]')\n",
    "filter_walk = ('[\"area\"!~\"yes\"]'\n",
    "            '[\"highway\"!~\"motor|trunk|proposed|construction|abandoned|platform|raceway\"]'\n",
    "            '[\"foot\"!~\"no\"]'\n",
    "            '[\"footway\"!~\"sidewalk\"]'\n",
    "            '[\"service\"!~\"private|parking_aisle\"]'\n",
    "            '[\"access\"!~\"private\"]')\n",
    "\n",
    "# downloading and projecting and simplyfing the graph\n",
    "G = ox.graph_from_bbox(north, south, east, west, custom_filter=filter_drive)\n",
    "G = ox.project_graph(G)\n",
    "\n"
   ]
  },
  {
   "cell_type": "code",
   "execution_count": null,
   "metadata": {},
   "outputs": [],
   "source": [
    "ox.save_graphml(G, filename='network_road.graphml')\n",
    "G = ox.load_graphml('network_road.graphml')"
   ]
  },
  {
   "cell_type": "code",
   "execution_count": null,
   "metadata": {},
   "outputs": [],
   "source": []
  },
  {
   "cell_type": "code",
   "execution_count": 3,
   "metadata": {},
   "outputs": [],
   "source": [
    "# grabbing all the nodes and put into a geodataframe\n",
    "nodes_all = ox.graph_to_gdfs(G, edges=False)\n",
    "nodes_all = nodes_all.to_crs(epsg=32617)\n",
    "\n",
    "# count the number of edges per node and join to the nodes geodataframe\n",
    "streets_per_node = ox.count_streets_per_node(G)\n",
    "streets_per_node = pd.DataFrame.from_dict(data=streets_per_node,orient='index')\n",
    "streets_per_node.columns = [\"streets_n\"]\n",
    "nodes_all = nodes_all.join(streets_per_node)\n",
    "\n",
    "# export nodes to a shp\n",
    "nodes_all.to_file(driver = 'ESRI Shapefile', filename= \"network_data/network_roads_nodes.shp\")\n",
    "\n",
    "\n",
    "\n",
    "# this could have been piped directly to a postgres database, but it was downloaded/processed \n",
    "# on a different server so it was easier to save as files and then import into a database\n",
    "\n",
    "# generate edges, and put into a shp\n"
   ]
  },
  {
   "cell_type": "code",
   "execution_count": 12,
   "metadata": {},
   "outputs": [],
   "source": [
    "edges_all = ox.graph_to_gdfs(G, nodes=False)\n",
    "del edges_all[\"oneway\"],edges_all[\"bridge\"],edges_all[\"access\"],edges_all[\"highway\"]\n",
    "del edges_all[\"junction\"],edges_all[\"key\"],edges_all[\"maxspeed\"],edges_all[\"name\"]\n",
    "del edges_all[\"osmid\"],edges_all[\"service\"],edges_all[\"tunnel\"],edges_all[\"width\"],edges_all[\"lanes\"]\n",
    "#edges_all.head(50)\n",
    "edges_all.to_file(driver = 'ESRI Shapefile', filename= \"network_data/network_roads_edges.shp\")"
   ]
  },
  {
   "cell_type": "code",
   "execution_count": null,
   "metadata": {},
   "outputs": [],
   "source": [
    "#ox.save_graphml(G, filename='network_road.graphml')\n",
    "#G = ox.load_graphml('network_road.graphml')"
   ]
  }
 ],
 "metadata": {
  "kernelspec": {
   "display_name": "Python 3",
   "language": "python",
   "name": "python3"
  },
  "language_info": {
   "codemirror_mode": {
    "name": "ipython",
    "version": 3
   },
   "file_extension": ".py",
   "mimetype": "text/x-python",
   "name": "python",
   "nbconvert_exporter": "python",
   "pygments_lexer": "ipython3",
   "version": "3.6.6"
  }
 },
 "nbformat": 4,
 "nbformat_minor": 2
}
